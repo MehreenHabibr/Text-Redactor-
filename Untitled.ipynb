{
 "cells": [
  {
   "cell_type": "code",
   "execution_count": 1,
   "id": "d1636e99-6ac7-4ce4-9a72-e29749c332a3",
   "metadata": {
    "tags": []
   },
   "outputs": [],
   "source": [
    "import os"
   ]
  },
  {
   "cell_type": "code",
   "execution_count": 2,
   "id": "5915be85-f8a7-4eb1-abff-2133c37653c4",
   "metadata": {
    "tags": []
   },
   "outputs": [],
   "source": [
    "import shutil\n",
    "import glob"
   ]
  },
  {
   "cell_type": "code",
   "execution_count": 3,
   "id": "31bfc771-aa2a-4605-bb81-09faa1d45a97",
   "metadata": {
    "tags": []
   },
   "outputs": [],
   "source": [
    "import spacy\n",
    "import argparse\n",
    "import glob\n",
    "import spacy\n",
    "import re\n",
    "import sys\n",
    "import numpy as np\n",
    "import ntpath\n",
    "import os\n",
    "import en_core_web_sm"
   ]
  },
  {
   "cell_type": "code",
   "execution_count": 4,
   "id": "7eaa0c3e-0259-4ffc-bfc5-796fe932b042",
   "metadata": {
    "tags": []
   },
   "outputs": [],
   "source": [
    "from spacy.matcher import Matcher\n",
    "global final_data"
   ]
  },
  {
   "cell_type": "code",
   "execution_count": 5,
   "id": "281fefe8-a6b1-458b-89c4-4a060cb1f1ac",
   "metadata": {
    "tags": []
   },
   "outputs": [],
   "source": [
    "nlp = spacy.load(\"en_core_web_sm\")"
   ]
  },
  {
   "cell_type": "code",
   "execution_count": 6,
   "id": "c8101c5d-6c7e-4731-af75-0c982fe8dbcc",
   "metadata": {
    "tags": []
   },
   "outputs": [],
   "source": [
    "def get_files(args):\n",
    "    folder_path = args.folder\n",
    "    pattern = args.pattern\n",
    "    files = [os.path.join(folder_path, f) for f in os.listdir(folder_path) if re.match(pattern, f)]\n",
    "    return files"
   ]
  },
  {
   "cell_type": "code",
   "execution_count": 7,
   "id": "9f2d7e6f-a91f-4150-8034-53b09992640d",
   "metadata": {
    "tags": []
   },
   "outputs": [],
   "source": [
    "def read_text_file(file_to_read):\n",
    "    with open(file_to_read, 'r') as f:\n",
    "        data = f.read()\n",
    "    return data"
   ]
  },
  {
   "cell_type": "code",
   "execution_count": 8,
   "id": "08ac6740-3da8-4478-a79f-bcdf10ed0707",
   "metadata": {
    "tags": []
   },
   "outputs": [],
   "source": [
    "def unicode_char(word):\n",
    "    return \"\\u2588\" * len(word)"
   ]
  },
  {
   "cell_type": "code",
   "execution_count": 9,
   "id": "b27c7b82-a690-46d3-9ff8-eee2b2a72230",
   "metadata": {
    "tags": []
   },
   "outputs": [],
   "source": [
    "def redact_names(text):\n",
    "    doc = nlp(text)\n",
    "    for ent in doc.ents:\n",
    "        if ent.label_ == \"PERSON\":\n",
    "            if ent.\n",
    "            text = text.replace(ent.text, unicode_char(ent.text))\n",
    "    return text"
   ]
  },
  {
   "cell_type": "code",
   "execution_count": 10,
   "id": "e7ca680f-70d4-4aa3-870d-3ee3a3567fd8",
   "metadata": {
    "tags": []
   },
   "outputs": [],
   "source": [
    "def redact_entities(text):\n",
    "    doc = nlp(text)\n",
    "    for ent in doc.ents:\n",
    "        if ent.label_ in [\"PERSON\",\"ORG\"]:\n",
    "            text = text.replace(ent.text, unicode_char(ent.text))\n",
    "    for token in doc:\n",
    "        if token.pos_ in [\"NOUN\", \"PROPN\"]:\n",
    "            text = text.replace(token.text, unicode_char(token.text))\n",
    "    return text\n"
   ]
  },
  {
   "cell_type": "code",
   "execution_count": 11,
   "id": "dae1c7d0-33f3-45eb-abd3-524a1965459e",
   "metadata": {
    "tags": []
   },
   "outputs": [],
   "source": [
    "import re\n",
    "\n",
    "def redact_dates(text):\n",
    "    # Define a regex pattern to match dates in various formats\n",
    "    date_pattern = r'\\b(\\d{1,2})[/-](\\d{1,2})[/-](\\d{2,4}|\\d{4})\\b|' \\\n",
    "                  r'\\b(\\d{4})[/-](\\d{1,2})[/-](\\d{1,2})\\b|' \\\n",
    "                  r'\\b(\\d{1,2}) ([A-Za-z]{3,9}) (\\d{2,4}|\\d{4})\\b|' \\\n",
    "                  r'\\b([A-Za-z]{3,9}) (\\d{1,2})[,-]? (\\d{2,4}|\\d{4})\\b'\n",
    "\n",
    "    # Replace all matched dates with the Unicode character\n",
    "    text = re.sub(date_pattern, unicode_char('DATE'), text)\n",
    "\n",
    "    return text\n"
   ]
  },
  {
   "cell_type": "code",
   "execution_count": 12,
   "id": "425a1d23-bfeb-4c65-b5fa-71043d8fa241",
   "metadata": {
    "tags": []
   },
   "outputs": [],
   "source": [
    "def redact_phones(text):\n",
    "    phone_re = re.compile(r\"\\d{3}[-\\.\\s]??\\d{3}[-\\.\\s]??\\d{4}|\\(\\d{3}\\)\\s*\\d{3}[-\\.\\s]??\\d{4}|\\d{10}\")\n",
    "    text = phone_re.sub(unicode_char(\"PHONE\"), text)\n",
    "    return text"
   ]
  },
  {
   "cell_type": "code",
   "execution_count": 13,
   "id": "074e20d6-6ff5-4577-b9b4-89a921d324e9",
   "metadata": {
    "tags": []
   },
   "outputs": [],
   "source": [
    "def redact_gender(text):\n",
    "    gender_terms = [\"he\", \"she\", \"him\", \"her\", \"his\", \"hers\"]\n",
    "    for term in gender_terms:\n",
    "        text = re.sub(r\"\\b\" + term + r\"\\b\", unicode_char(term), text)\n",
    "    return text"
   ]
  },
  {
   "cell_type": "code",
   "execution_count": 14,
   "id": "c6d122d5-2ef6-48d9-924a-139c2643af5e",
   "metadata": {
    "tags": []
   },
   "outputs": [],
   "source": [
    "def redact_address(text):\n",
    "    doc = nlp(text)\n",
    "    for ent in doc.ents:\n",
    "        if ent.label_ == \"GPE\" or ent.label_ == \"LOC\":\n",
    "            text = text.replace(ent.text, unicode_char(ent.text))\n",
    "    return text\n"
   ]
  },
  {
   "cell_type": "code",
   "execution_count": 15,
   "id": "213e3db3-afd1-40d6-9f60-e2b1e8f5f86b",
   "metadata": {
    "tags": []
   },
   "outputs": [],
   "source": [
    "def stats(args, text, file):\n",
    "    redacted_terms = {}\n",
    "    text = redact_names(text)\n",
    "    text = redact_dates(text)\n",
    "    text = redact_phones(text)\n",
    "    text = redact_gender(text)\n",
    "    text = redact_address(text)\n",
    "    for word in text.split():\n",
    "        if \"\\u2588\" in word:\n",
    "            if word not in redacted_terms:\n",
    "                redacted_terms[word] = 1\n",
    "            else:\n",
    "                redacted_terms[word] += 1\n",
    "    if args.stats:\n",
    "        write_tostatfile(redacted_terms, len(text.split()), file, args)\n",
    "    else:\n",
    "        write_stdout(redacted_terms, len(text.split()))\n"
   ]
  },
  {
   "cell_type": "code",
   "execution_count": 16,
   "id": "6b6d4800-2f2b-465f-8dbe-0b8be4a47f54",
   "metadata": {
    "tags": []
   },
   "outputs": [],
   "source": [
    "def write_tostatfile(redacted_terms, count, file, args):\n",
    "    folder_path = args.stats\n",
    "    if not os.path.exists(folder_path):\n",
    "        os.makedirs(folder_path)\n",
    "    with open(os.path.join(folder_path, file + \".stats\"), \"w\") as f:\n",
    "        f.write(f\"Total Words: {count}\\n\")\n",
    "        for term, count in redacted_terms.items():\n",
    "            f.write(f\"{term}: {count}\\n\")\n"
   ]
  },
  {
   "cell_type": "code",
   "execution_count": 17,
   "id": "081b3230-4554-4d39-94a8-33ee1a581700",
   "metadata": {
    "tags": []
   },
   "outputs": [],
   "source": [
    "def write_stdout(redacted_terms, count):\n",
    "    print(f\"Total Words: {count}\")\n"
   ]
  },
  {
   "cell_type": "code",
   "execution_count": 18,
   "id": "c590b98d-c060-49ae-a27b-0b9ee5ba08e2",
   "metadata": {
    "tags": []
   },
   "outputs": [],
   "source": [
    "def output(args, complete_data, files):\n",
    "\n",
    "    if args.output == 'stdout':\n",
    "        print(\"\\n\",\"******* Redacted data output from \", files,\"file\",\"*******\",\"\\n\",complete_data)\n",
    "    elif args.output != 'stderr':\n",
    "        cwd = os.getcwd()\n",
    "        folder_path = os.path.join(cwd,str(args.output).strip('\\''))\n",
    "        path=ntpath.basename(files)+ '.redacted'\n",
    "        complete_path = (str(args.output).strip('\\'') + '\\\\' + path)\n",
    "        final_path = os.path.join(cwd,complete_path)\n",
    "        if os.path.isdir(folder_path):\n",
    "            final_file = open(final_path, \"w\" ,encoding=\"utf-8\")\n",
    "        else:\n",
    "            os.mkdir(folder_path)\n",
    "            final_file = open(final_path, \"w\" ,encoding=\"utf-8\")\n",
    "        final_file.write(complete_data)\n",
    "        final_file.close()\n",
    "    elif args.output == 'stderr':\n",
    "        print(\"No Error Found\", file = sys.stderr)"
   ]
  },
  {
   "cell_type": "code",
   "execution_count": 21,
   "id": "a5039c68-6a81-4b4a-932f-efdcd67ba865",
   "metadata": {
    "tags": []
   },
   "outputs": [
    {
     "name": "stderr",
     "output_type": "stream",
     "text": [
      "usage: ipykernel_launcher.py [-h] --input [INPUT ...] [--names] [--dates]\n",
      "                             [--phones] [--genders] [--address] --output\n",
      "                             OUTPUT [--stats STATS]\n",
      "ipykernel_launcher.py: error: the following arguments are required: --input, --output\n"
     ]
    },
    {
     "ename": "SystemExit",
     "evalue": "2",
     "output_type": "error",
     "traceback": [
      "An exception has occurred, use %tb to see the full traceback.\n",
      "\u001b[0;31mSystemExit\u001b[0m\u001b[0;31m:\u001b[0m 2\n"
     ]
    }
   ],
   "source": [
    "def main(parser):\n",
    "\n",
    "    args=parser.parse_args()\n",
    "    list_of_files = get_files(args)\n",
    "    for file in list_of_files:\n",
    "        if args.stats == 'stdout':\n",
    "            print(\"\\n\" + \"******* Stats after redacting the file\", file.split('.')[0] + \" *******\" + '\\n')\n",
    "        text = read_text_file (file)\n",
    "        final_data = stats(args, text, file)\n",
    "        output(args, final_data, file)\n",
    "\n",
    "if __name__ == \"__main__\":\n",
    "    parser =argparse.ArgumentParser()\n",
    "    parser.add_argument(\"--input\",type=str,required=True,nargs='*',help=\"It takes the patterns of the input files\")\n",
    "    parser.add_argument(\"--names\",action=\"store_true\",help=\"It helps in redacting names\")\n",
    "    parser.add_argument(\"--dates\",action=\"store_true\",help=\"It helps in redacting dates\")\n",
    "    parser.add_argument(\"--phones\",action=\"store_true\",help=\"It helps in redacting phones\")\n",
    "    parser.add_argument(\"--genders\",action=\"store_true\",help=\"It helps in redacting genders\")\n",
    "    parser.add_argument(\"--address\",action=\"store_true\",help=\"It helps in redacting address\")\n",
    "    parser.add_argument(\"--output\",type=str, required=True,help=\"It takes the output file path\")\n",
    "    parser.add_argument(\"--stats\",help=\"It provides the stats of the redacted flags\")\n",
    "    main(parser)"
   ]
  },
  {
   "cell_type": "code",
   "execution_count": null,
   "id": "d7601846-c786-4574-b184-90a567f6d337",
   "metadata": {},
   "outputs": [],
   "source": []
  }
 ],
 "metadata": {
  "kernelspec": {
   "display_name": "Python 3 (ipykernel)",
   "language": "python",
   "name": "python3"
  },
  "language_info": {
   "codemirror_mode": {
    "name": "ipython",
    "version": 3
   },
   "file_extension": ".py",
   "mimetype": "text/x-python",
   "name": "python",
   "nbconvert_exporter": "python",
   "pygments_lexer": "ipython3",
   "version": "3.10.6"
  }
 },
 "nbformat": 4,
 "nbformat_minor": 5
}
